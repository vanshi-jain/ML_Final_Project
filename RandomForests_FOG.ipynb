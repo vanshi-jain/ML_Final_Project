{
 "cells": [
  {
   "cell_type": "code",
   "execution_count": 1,
   "id": "92c37f7f",
   "metadata": {},
   "outputs": [],
   "source": [
    "import pandas as pd \n",
    "import numpy as np \n",
    "import os, sys\n",
    "from sklearn.preprocessing import MinMaxScaler\n",
    "from sklearn.model_selection import train_test_split\n",
    "from sklearn import metrics\n",
    "from xgboost import XGBClassifier\n"
   ]
  },
  {
   "cell_type": "code",
   "execution_count": 2,
   "id": "d70e0090",
   "metadata": {},
   "outputs": [],
   "source": [
    "#Extract the features and the predictors\n",
    "data = pd.read_csv(\"/Users/vanshika/Downloads/dataset_fog_release/dataset_fog_release/dataset/feature.csv\")\n",
    "target = data['0']\n",
    "predictors = data.drop(['0'], axis = 1)#.as_matrix()\n"
   ]
  },
  {
   "cell_type": "code",
   "execution_count": 3,
   "id": "03cb53ba",
   "metadata": {},
   "outputs": [],
   "source": [
    "scaler = MinMaxScaler((-1, 1))\n",
    "X = scaler.fit_transform(predictors)\n",
    "Y = target"
   ]
  },
  {
   "cell_type": "code",
   "execution_count": 4,
   "id": "5d84f927",
   "metadata": {},
   "outputs": [],
   "source": [
    "#Split training data \n",
    "X_train, X_test, Y_train, Y_test = train_test_split(X, Y, test_size = .14, random_state = 7)"
   ]
  },
  {
   "cell_type": "code",
   "execution_count": 5,
   "id": "98d8a7ab",
   "metadata": {},
   "outputs": [
    {
     "data": {
      "text/plain": [
       "XGBClassifier(base_score=0.5, booster='gbtree', callbacks=None,\n",
       "              colsample_bylevel=1, colsample_bynode=1, colsample_bytree=1,\n",
       "              early_stopping_rounds=None, enable_categorical=False,\n",
       "              eval_metric=None, gamma=0, gpu_id=-1, grow_policy='depthwise',\n",
       "              importance_type=None, interaction_constraints='',\n",
       "              learning_rate=0.300000012, max_bin=256, max_cat_to_onehot=4,\n",
       "              max_delta_step=0, max_depth=6, max_leaves=0, min_child_weight=1,\n",
       "              missing=nan, monotone_constraints='()', n_estimators=100,\n",
       "              n_jobs=0, num_parallel_tree=1, objective='multi:softprob',\n",
       "              predictor='auto', random_state=0, reg_alpha=0, ...)"
      ]
     },
     "execution_count": 5,
     "metadata": {},
     "output_type": "execute_result"
    }
   ],
   "source": [
    "# Train\n",
    "model = XGBClassifier()\n",
    "model.fit(X_train, Y_train)"
   ]
  },
  {
   "cell_type": "code",
   "execution_count": 12,
   "id": "f634b8db",
   "metadata": {},
   "outputs": [
    {
     "name": "stdout",
     "output_type": "stream",
     "text": [
      "Test set Accuracy:  0.9826638477801268\n"
     ]
    }
   ],
   "source": [
    "# Evaluate\n",
    "Y_hat = [round(yhat) for yhat in model.predict(X_test)]\n",
    "print('Test set Accuracy: ',metrics.accuracy_score(Y_test, Y_hat)) # Test set accuracy\n",
    "# Y_hat=[]\n",
    "# Y_hat = [round(yhat) for yhat in model.predict(X)]\n",
    "# print('Full set Accuracy: ',metrics.accuracy_score(Y, Y_hat)) # Full set accuracy"
   ]
  },
  {
   "cell_type": "code",
   "execution_count": 14,
   "id": "e14ecf10",
   "metadata": {},
   "outputs": [
    {
     "name": "stdout",
     "output_type": "stream",
     "text": [
      "Classification summary: \n",
      "               precision    recall  f1-score   support\n",
      "\n",
      "           0       0.99      1.00      0.99      5878\n",
      "           1       0.97      0.98      0.97       915\n",
      "           2       0.96      0.74      0.83       302\n",
      "\n",
      "    accuracy                           0.98      7095\n",
      "   macro avg       0.97      0.90      0.93      7095\n",
      "weighted avg       0.98      0.98      0.98      7095\n",
      "\n",
      "Confusion matrix: \n",
      " [[5853   15   10]\n",
      " [  18  897    0]\n",
      " [  64   16  222]]\n"
     ]
    }
   ],
   "source": [
    "print(\"Classification summary: \\n\",metrics.classification_report(Y_test, Y_hat))\n",
    "print(\"Confusion matrix: \\n\",metrics.confusion_matrix(Y_test, Y_hat))\n"
   ]
  },
  {
   "cell_type": "code",
   "execution_count": 15,
   "id": "4278b2ef",
   "metadata": {},
   "outputs": [],
   "source": [
    "from xgboost import Booster\n",
    "\n",
    "model._Booster.save_model('modelXG.bin')\n",
    "\n",
    "def load_xgb_model():\n",
    "    _m = XGBClassifier()\n",
    "    _b = Booster()\n",
    "    _b.load_model('modelXG.bin')\n",
    "    _m._Booster = _b\n",
    "    return _m\n",
    "\n",
    "model = load_xgb_model()"
   ]
  },
  {
   "cell_type": "code",
   "execution_count": null,
   "id": "d286eda7",
   "metadata": {},
   "outputs": [],
   "source": []
  }
 ],
 "metadata": {
  "kernelspec": {
   "display_name": "Python 3 (ipykernel)",
   "language": "python",
   "name": "python3"
  },
  "language_info": {
   "codemirror_mode": {
    "name": "ipython",
    "version": 3
   },
   "file_extension": ".py",
   "mimetype": "text/x-python",
   "name": "python",
   "nbconvert_exporter": "python",
   "pygments_lexer": "ipython3",
   "version": "3.9.7"
  }
 },
 "nbformat": 4,
 "nbformat_minor": 5
}
