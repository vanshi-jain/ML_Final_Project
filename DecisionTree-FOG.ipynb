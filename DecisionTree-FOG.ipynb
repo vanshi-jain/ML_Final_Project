{
 "cells": [
  {
   "cell_type": "code",
   "execution_count": 1,
   "id": "19fb6315",
   "metadata": {},
   "outputs": [],
   "source": [
    "import pandas as pd \n",
    "import numpy as np \n",
    "import os, sys\n",
    "from sklearn.preprocessing import MinMaxScaler\n",
    "from sklearn.model_selection import train_test_split\n",
    "from sklearn import metrics\n",
    "from sklearn import tree"
   ]
  },
  {
   "cell_type": "code",
   "execution_count": 2,
   "id": "c99805b9",
   "metadata": {},
   "outputs": [],
   "source": [
    "#Extract the features and the predictors\n",
    "data = pd.read_csv(\"/Users/vanshika/Downloads/dataset_fog_release/dataset_fog_release/dataset/data.csv\")\n",
    "predictors = data.drop(['name'], axis = 1)\n",
    "predictors = predictors.drop(['Action'], axis = 1)#.as_matrix()\n",
    "target = data['Action']"
   ]
  },
  {
   "cell_type": "code",
   "execution_count": 3,
   "id": "10396e98",
   "metadata": {},
   "outputs": [],
   "source": [
    "scaler = MinMaxScaler((-1, 1))\n",
    "X = scaler.fit_transform(predictors)\n",
    "Y = target"
   ]
  },
  {
   "cell_type": "code",
   "execution_count": 4,
   "id": "b9e48647",
   "metadata": {},
   "outputs": [],
   "source": [
    "#Split training data \n",
    "X_train, X_test, Y_train, Y_test = train_test_split(X, Y, test_size = .20, random_state = 7)"
   ]
  },
  {
   "cell_type": "code",
   "execution_count": 6,
   "id": "ad46655f",
   "metadata": {},
   "outputs": [
    {
     "name": "stdout",
     "output_type": "stream",
     "text": [
      "Decision Tree Classifier: \n",
      "Accuracy:  0.9709595519413098\n",
      "Classification summary: \n",
      "               precision    recall  f1-score   support\n",
      "\n",
      "           0       0.98      0.99      0.98    542671\n",
      "           1       0.98      0.99      0.99     86806\n",
      "           2       0.72      0.62      0.67     30258\n",
      "\n",
      "    accuracy                           0.97    659735\n",
      "   macro avg       0.89      0.87      0.88    659735\n",
      "weighted avg       0.97      0.97      0.97    659735\n",
      "\n",
      "Confusion matrix: \n",
      " [[535529    173   6969]\n",
      " [   108  86161    537]\n",
      " [ 10220   1152  18886]]\n"
     ]
    }
   ],
   "source": [
    "#create Decision Tree Classifier\n",
    "model= tree.DecisionTreeClassifier()\n",
    "model.fit(X_train, Y_train)\n",
    "\n",
    "# make predictions\n",
    "y_pred = model.predict(X_test)\n",
    "\n",
    "# summarize the fit of the model\n",
    "print(\"Decision Tree Classifier: \")\n",
    "print(\"Accuracy: \",metrics.accuracy_score(Y_test, y_pred))\n",
    "print(\"Classification summary: \\n\",metrics.classification_report(Y_test, y_pred))\n",
    "print(\"Confusion matrix: \\n\",metrics.confusion_matrix(Y_test, y_pred))\n"
   ]
  },
  {
   "cell_type": "code",
   "execution_count": null,
   "id": "c01beaaa",
   "metadata": {},
   "outputs": [],
   "source": []
  }
 ],
 "metadata": {
  "kernelspec": {
   "display_name": "Python 3 (ipykernel)",
   "language": "python",
   "name": "python3"
  },
  "language_info": {
   "codemirror_mode": {
    "name": "ipython",
    "version": 3
   },
   "file_extension": ".py",
   "mimetype": "text/x-python",
   "name": "python",
   "nbconvert_exporter": "python",
   "pygments_lexer": "ipython3",
   "version": "3.9.7"
  }
 },
 "nbformat": 4,
 "nbformat_minor": 5
}
