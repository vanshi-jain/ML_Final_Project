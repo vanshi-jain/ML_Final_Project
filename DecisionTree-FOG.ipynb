{
 "cells": [
  {
   "cell_type": "code",
   "execution_count": 2,
   "id": "19fb6315",
   "metadata": {},
   "outputs": [],
   "source": [
    "import pandas as pd \n",
    "import numpy as np \n",
    "import os, sys\n",
    "from sklearn.preprocessing import MinMaxScaler\n",
    "from sklearn.model_selection import train_test_split\n",
    "from sklearn import metrics\n",
    "from sklearn import tree"
   ]
  },
  {
   "cell_type": "code",
   "execution_count": 3,
   "id": "d82a7841",
   "metadata": {},
   "outputs": [],
   "source": [
    "#Extract the features and the predictors\n",
    "data = pd.read_csv(\"/Users/vanshika/Downloads/dataset_fog_release/dataset_fog_release/dataset/data.csv\")\n",
    "target = data['Action']\n",
    "\n",
    "idx= [i for i in target.index if target[i] == 0]\n",
    "\n",
    "data= data.drop(['name'], axis = 1)\n",
    "predictors=data.drop(idx,axis =0)\n",
    "\n",
    "target = predictors['Action']        \n",
    "predictors = predictors.drop(['Action'], axis = 1)\n"
   ]
  },
  {
   "cell_type": "code",
   "execution_count": 8,
   "id": "165a4de9",
   "metadata": {},
   "outputs": [],
   "source": [
    "predictors = predictors.drop(['time'], axis = 1)"
   ]
  },
  {
   "cell_type": "code",
   "execution_count": 9,
   "id": "10396e98",
   "metadata": {},
   "outputs": [],
   "source": [
    "scaler = MinMaxScaler((-1, 1))\n",
    "X = scaler.fit_transform(predictors)\n",
    "Y = target"
   ]
  },
  {
   "cell_type": "code",
   "execution_count": 10,
   "id": "892c0782",
   "metadata": {},
   "outputs": [
    {
     "data": {
      "text/plain": [
       "(Index(['A_F', 'A_V', 'A_L', 'L_F', 'L_V', 'L_L', 'T_F', 'T_V', 'T_L'], dtype='object'),\n",
       " (587506, 9))"
      ]
     },
     "execution_count": 10,
     "metadata": {},
     "output_type": "execute_result"
    }
   ],
   "source": [
    "predictors.columns, X.shape"
   ]
  },
  {
   "cell_type": "code",
   "execution_count": null,
   "id": "803d2fcc",
   "metadata": {},
   "outputs": [],
   "source": []
  },
  {
   "cell_type": "code",
   "execution_count": 11,
   "id": "754816f7",
   "metadata": {},
   "outputs": [],
   "source": [
    "import matplotlib.pyplot as plt\n",
    "from sklearn.decomposition import PCA\n",
    "import plotly.express as px\n"
   ]
  },
  {
   "cell_type": "code",
   "execution_count": 31,
   "id": "ed6e63e4",
   "metadata": {},
   "outputs": [],
   "source": [
    "# pca= PCA(n_components=35)\n",
    "# comp= pca.fit_transform(X)\n",
    "# labels = {\n",
    "#     str(i): f\"PC {i+1} ({var:.1f}%)\"\n",
    "#     for i, var in enumerate(pca.explained_variance_ratio_ * 100)\n",
    "# }\n",
    "# tfig=px.scatter_matrix(comp, labels=labels, dimensions= range(15), color=Y )\n",
    "# tfig.update_traces(diagonal_visible=False)\n",
    "# tfig.show()"
   ]
  },
  {
   "cell_type": "code",
   "execution_count": 12,
   "id": "b9e48647",
   "metadata": {},
   "outputs": [],
   "source": [
    "#Split training data \n",
    "X_train, X_test, Y_train, Y_test = train_test_split(X, Y, test_size = .20, random_state = 7)"
   ]
  },
  {
   "cell_type": "code",
   "execution_count": 44,
   "id": "88b57bc2",
   "metadata": {},
   "outputs": [],
   "source": [
    "# def create_data(mean,cov,samples, label):\n",
    "#     X=np.zeros((features,samples))\n",
    "\n",
    "#     for i in range(samples):\n",
    "#         if label[i]==0:\n",
    "#             X[:,i] =0.5*np.random.multivariate_normal(mean0[:,0],cov[:,:,0],1) \n",
    "#         else:\n",
    "#             X[:,i] =np.random.multivariate_normal(mean1[:,0],cov[:,:,2],1)\n",
    "#     return X\n",
    "\n",
    "# X20=create_data(mean0,mean1,cov,s1, labels20)"
   ]
  },
  {
   "cell_type": "code",
   "execution_count": 13,
   "id": "42ba40e0",
   "metadata": {},
   "outputs": [
    {
     "data": {
      "text/plain": [
       "Int64Index([3198622, 1497015, 1549252, 1118291, 2923242, 1936643, 3089442,\n",
       "             219460, 3217287, 2609130,\n",
       "            ...\n",
       "            1166080, 3156197,  853157, 1942897,  476142, 1996775, 3004705,\n",
       "            3213476, 1197047, 3268259],\n",
       "           dtype='int64', length=470004)"
      ]
     },
     "execution_count": 13,
     "metadata": {},
     "output_type": "execute_result"
    }
   ],
   "source": [
    "Y_train.shape, X_train.shape[0]\n",
    "Y_train.index"
   ]
  },
  {
   "cell_type": "code",
   "execution_count": 62,
   "id": "1e6c92c9",
   "metadata": {},
   "outputs": [],
   "source": [
    "# # plot the actual distributions\n",
    "# #samples= [int(i) for i in Y_train.index]\n",
    "# samples=X.shape[0]\n",
    "# x1= [i for i in range(samples) if(Y[i] == 0)]\n",
    "# x2= [i for i in range(samples) if(Y[i] == 1)]\n",
    "# x3= [i for i in range(samples) if(Y[i] == 2)]\n",
    "\n",
    "# fig = plt.figure(figsize=(10,10))\n",
    "# #ax = fig.add_subplot(111, projection='3d')\n",
    "\n",
    "# plt.scatter(X[x1,0],X[x1,1],'o',c='green',label='Class 1')\n",
    "# plt.scatter(X[x2,0],X[x2,1],'+',c='blue',label='Class 2')\n",
    "# plt.scatter(X[x3,0],X[x3,1],'+',c='blue',label='Class 2')\n",
    "\n",
    "# #ax.view_init(elev=180, azim=90)\n",
    "# plt.legend()\n",
    "# plt.title('True Class Labels')\n",
    "# plt.xlabel('X')\n",
    "# plt.ylabel ('Y')\n",
    "\n",
    "# plt.show()"
   ]
  },
  {
   "cell_type": "code",
   "execution_count": 14,
   "id": "ad46655f",
   "metadata": {},
   "outputs": [
    {
     "name": "stdout",
     "output_type": "stream",
     "text": [
      "Decision Tree Classifier: \n",
      "Accuracy:  0.9673282156899458\n",
      "Classification summary: \n",
      "               precision    recall  f1-score   support\n",
      "\n",
      "           1       0.97      0.99      0.98     87346\n",
      "           2       0.97      0.90      0.93     30156\n",
      "\n",
      "    accuracy                           0.97    117502\n",
      "   macro avg       0.97      0.94      0.96    117502\n",
      "weighted avg       0.97      0.97      0.97    117502\n",
      "\n",
      "Confusion matrix: \n",
      " [[86634   712]\n",
      " [ 3127 27029]]\n"
     ]
    }
   ],
   "source": [
    "#create Decision Tree Classifier\n",
    "model= tree.DecisionTreeClassifier()\n",
    "model.fit(X_train, Y_train)\n",
    "\n",
    "# make predictions\n",
    "y_pred = model.predict(X_test)\n",
    "\n",
    "# summarize the fit of the model\n",
    "print(\"Decision Tree Classifier: \")\n",
    "print(\"Accuracy: \",metrics.accuracy_score(Y_test, y_pred))\n",
    "print(\"Classification summary: \\n\",metrics.classification_report(Y_test, y_pred))\n",
    "print(\"Confusion matrix: \\n\",metrics.confusion_matrix(Y_test, y_pred))\n"
   ]
  },
  {
   "cell_type": "code",
   "execution_count": 15,
   "id": "c01beaaa",
   "metadata": {},
   "outputs": [
    {
     "data": {
      "text/plain": [
       "array([1, 1, 1, ..., 2, 1, 2], dtype=int64)"
      ]
     },
     "execution_count": 15,
     "metadata": {},
     "output_type": "execute_result"
    }
   ],
   "source": [
    "# saving model\n",
    "import pickle\n",
    "#from sklearn.externals import joblib\n",
    "\n",
    "# Save the trained model as a pickle string.\n",
    "saved_model = pickle.dump(model, open('/Users/vanshika/DecisionTree', 'wb'))\n",
    "\n",
    "# Load the pickled model\n",
    "m_from_pickle = pickle.load(open('/Users/vanshika/DecisionTree', 'rb'))\n",
    "\n",
    "# Use the loaded pickled model to make predictions\n",
    "m_from_pickle.predict(X_test)\n",
    "#joblib.dump(model, '/Users/vanshika/DecisionTree')\n"
   ]
  },
  {
   "cell_type": "code",
   "execution_count": null,
   "id": "ea9b0dde",
   "metadata": {},
   "outputs": [],
   "source": []
  }
 ],
 "metadata": {
  "kernelspec": {
   "display_name": "Python 3 (ipykernel)",
   "language": "python",
   "name": "python3"
  },
  "language_info": {
   "codemirror_mode": {
    "name": "ipython",
    "version": 3
   },
   "file_extension": ".py",
   "mimetype": "text/x-python",
   "name": "python",
   "nbconvert_exporter": "python",
   "pygments_lexer": "ipython3",
   "version": "3.9.7"
  }
 },
 "nbformat": 4,
 "nbformat_minor": 5
}
