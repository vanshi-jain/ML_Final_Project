{
 "cells": [
  {
   "cell_type": "code",
   "execution_count": 1,
   "id": "a5cb1b0c",
   "metadata": {},
   "outputs": [],
   "source": [
    "import pandas as pd \n",
    "import numpy as np \n",
    "import os, sys\n",
    "from sklearn.preprocessing import MinMaxScaler\n",
    "from sklearn.model_selection import train_test_split\n",
    "from sklearn import metrics\n",
    "from sklearn.neighbors import KNeighborsClassifier"
   ]
  },
  {
   "cell_type": "code",
   "execution_count": 3,
   "id": "35c17870",
   "metadata": {},
   "outputs": [],
   "source": [
    "#Extract the features and the predictors\n",
    "data = pd.read_csv(\"/Users/vanshika/Downloads/dataset_fog_release/dataset_fog_release/dataset/feature.csv\")\n",
    "target = data['0']\n",
    "# predictors = data.drop(['name'], axis = 1)\n",
    "predictors = data.drop(['0'], axis = 1)#.as_matrix()\n"
   ]
  },
  {
   "cell_type": "code",
   "execution_count": 4,
   "id": "67a32b98",
   "metadata": {},
   "outputs": [],
   "source": [
    "scaler = MinMaxScaler((-1, 1))\n",
    "X = scaler.fit_transform(predictors)\n",
    "Y = target"
   ]
  },
  {
   "cell_type": "code",
   "execution_count": 5,
   "id": "a3398b60",
   "metadata": {},
   "outputs": [],
   "source": [
    "#Split training data \n",
    "X_train, X_test, Y_train, Y_test = train_test_split(X, Y, test_size = .25, random_state = 7)"
   ]
  },
  {
   "cell_type": "code",
   "execution_count": 8,
   "id": "0dabadf9",
   "metadata": {},
   "outputs": [
    {
     "name": "stdout",
     "output_type": "stream",
     "text": [
      "k-Nearest Neighbor: \n",
      "Accuracy:  0.9212250374930934\n",
      "Classification summary:\n",
      "                precision    recall  f1-score   support\n",
      "\n",
      "           0       0.95      0.97      0.96     10456\n",
      "           1       0.81      0.79      0.80      1627\n",
      "           2       0.53      0.38      0.44       586\n",
      "\n",
      "    accuracy                           0.92     12669\n",
      "   macro avg       0.76      0.71      0.74     12669\n",
      "weighted avg       0.92      0.92      0.92     12669\n",
      "\n",
      "Confusion matrix: \n",
      " [[10158   183   115]\n",
      " [  252  1290    85]\n",
      " [  246   117   223]]\n"
     ]
    }
   ],
   "source": [
    "#Create the K-Nearest-Neighbors model\n",
    "model = KNeighborsClassifier()\n",
    "model.fit(X_train, Y_train)\n",
    "\n",
    "# make predictions\n",
    "y_pred = model.predict(X_test)\n",
    "\n",
    "# summarize the fit of the model\n",
    "print(\"k-Nearest Neighbor: \")\n",
    "print(\"Accuracy: \",metrics.accuracy_score(Y_test, y_pred))\n",
    "print(\"Classification summary:\\n \",metrics.classification_report(Y_test, y_pred))\n",
    "print(\"Confusion matrix: \\n\",metrics.confusion_matrix(Y_test, y_pred))\n",
    "\n",
    "# Now we are gonna try fine-tuning KNeighborsCclassifier() aka beat 97.959% "
   ]
  },
  {
   "cell_type": "code",
   "execution_count": 9,
   "id": "75805c5d",
   "metadata": {},
   "outputs": [
    {
     "data": {
      "text/plain": [
       "array([1, 0, 0, ..., 2, 0, 0], dtype=int64)"
      ]
     },
     "execution_count": 9,
     "metadata": {},
     "output_type": "execute_result"
    }
   ],
   "source": [
    "# saving model\n",
    "import pickle\n",
    "#from sklearn.externals import joblib\n",
    "\n",
    "# Save the trained model as a pickle string.\n",
    "saved_model = pickle.dump(model, open('/Users/vanshika/knn', 'wb'))\n",
    "\n",
    "# Load the pickled model\n",
    "m_from_pickle = pickle.load(open('/Users/vanshika/knn', 'rb'))\n",
    "\n",
    "# Use the loaded pickled model to make predictions\n",
    "m_from_pickle.predict(X_test)\n",
    "#joblib.dump(model, '/Users/vanshika/DecisionTree')\n"
   ]
  },
  {
   "cell_type": "code",
   "execution_count": 13,
   "id": "a43957e6",
   "metadata": {},
   "outputs": [],
   "source": [
    "# import matplotlib.pyplot as plt\n",
    "# import seaborn as sns\n",
    "# from matplotlib.colors import ListedColormap\n",
    "\n",
    "# h = 0.02  # step size in the mesh\n",
    "\n",
    "# # Create color maps\n",
    "# cmap_light = ListedColormap([\"orange\", \"cyan\", \"cornflowerblue\"])\n",
    "# cmap_bold = [\"darkorange\", \"c\", \"darkblue\"]\n",
    "\n",
    "# # Plot the decision boundary. For that, we will assign a color to each\n",
    "# # point in the mesh [x_min, x_max]x[y_min, y_max].\n",
    "# x_min, x_max = X_train[:, 0].min() - 1, X_train[:, 0].max() + 1\n",
    "# y_min, y_max = X_train[:, 1].min() - 1, X_train[:, 1].max() + 1\n",
    "# xx, yy = np.meshgrid(np.arange(x_min, x_max, h), np.arange(y_min, y_max, h))\n",
    "# # Z = model.predict(np.c_[xx.ravel(), yy.ravel()])\n",
    "# Z=y_pred\n",
    "# # Put the result into a color plot\n",
    "# Z = Z.reshape(xx.shape)\n",
    "# plt.figure(figsize=(8, 6))\n",
    "# plt.contourf(xx, yy, Z, cmap=cmap_light)\n",
    "\n",
    "# # Plot also the training points\n",
    "# sns.scatterplot(\n",
    "#     x=X_train[:, 0],\n",
    "#     y=X_train[:, 1],\n",
    "#     hue=iris.target_names[Y_train],\n",
    "#     palette=cmap_bold,\n",
    "#     alpha=1.0,\n",
    "#     edgecolor=\"black\",\n",
    "# )\n",
    "# plt.xlim(xx.min(), xx.max())\n",
    "# plt.ylim(yy.min(), yy.max())\n",
    "# plt.title( \"3-Class classification\")\n",
    "# Z = model.predict(np.c_[xx.ravel(), yy.ravel()])\n",
    "\n",
    "# plt.xlim(xx.min(), xx.max())\n",
    "# plt.ylim(yy.min(), yy.max())\n",
    "# plt.title(\n",
    "#     \"3-Class classification\")\n",
    "# # plt.xlabel(iris.feature_names[0])\n",
    "# # plt.ylabel(iris.feature_names[1])\n",
    "\n",
    "# plt.show()"
   ]
  },
  {
   "cell_type": "code",
   "execution_count": null,
   "id": "6d26fb34",
   "metadata": {},
   "outputs": [],
   "source": []
  }
 ],
 "metadata": {
  "kernelspec": {
   "display_name": "Python 3 (ipykernel)",
   "language": "python",
   "name": "python3"
  },
  "language_info": {
   "codemirror_mode": {
    "name": "ipython",
    "version": 3
   },
   "file_extension": ".py",
   "mimetype": "text/x-python",
   "name": "python",
   "nbconvert_exporter": "python",
   "pygments_lexer": "ipython3",
   "version": "3.9.7"
  }
 },
 "nbformat": 4,
 "nbformat_minor": 5
}
