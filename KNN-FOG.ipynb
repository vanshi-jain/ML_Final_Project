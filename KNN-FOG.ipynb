{
 "cells": [
  {
   "cell_type": "code",
   "execution_count": 1,
   "id": "a5cb1b0c",
   "metadata": {},
   "outputs": [],
   "source": [
    "import pandas as pd \n",
    "import numpy as np \n",
    "import os, sys\n",
    "from sklearn.preprocessing import MinMaxScaler\n",
    "from sklearn.model_selection import train_test_split\n",
    "from sklearn import metrics\n",
    "from sklearn.neighbors import KNeighborsClassifier"
   ]
  },
  {
   "cell_type": "code",
   "execution_count": 3,
   "id": "35c17870",
   "metadata": {},
   "outputs": [],
   "source": [
    "#Extract the features and the predictors\n",
    "data = pd.read_csv(\"/Users/vanshika/Downloads/dataset_fog_release/dataset_fog_release/dataset/data.csv\")\n",
    "predictors = data.drop(['name'], axis = 1)\n",
    "predictors = predictors.drop(['Action'], axis = 1)#.as_matrix()\n",
    "target = data['Action']"
   ]
  },
  {
   "cell_type": "code",
   "execution_count": 6,
   "id": "2fbfe3d4",
   "metadata": {},
   "outputs": [
    {
     "data": {
      "text/plain": [
       "(<bound method NDFrame.head of             time  A_F   A_V  A_L  L_F  L_V  L_L  T_F   T_V  T_L\n",
       " 0         750000  -30   990  326  -45  972  181  -38  1000   29\n",
       " 1         750015  -30  1000  356  -18  981  212  -48  1028   29\n",
       " 2         750031  -20   990  336   18  981  222  -38  1038    9\n",
       " 3         750046  -20  1000  316   36  990  222  -19  1038    9\n",
       " 4         750062    0   990  316   36  990  212  -29  1038   29\n",
       " ...          ...  ...   ...  ...  ...  ...  ...  ...   ...  ...\n",
       " 3298667  2549937  202  1019  188 -890  111  515 -155   971  291\n",
       " 3298668  2549953  202  1009  178 -863  157  434 -155   980  281\n",
       " 3298669  2549968  212  1000  158 -881  203  373 -155   971  281\n",
       " 3298670  2549984  202  1019  148 -890  240  393 -155   961  252\n",
       " 3298671  2550000  202  1019  178 -927  259  434 -155   971  262\n",
       " \n",
       " [3298672 rows x 10 columns]>,\n",
       " 0          0\n",
       " 1          0\n",
       " 2          0\n",
       " 3          0\n",
       " 4          0\n",
       "           ..\n",
       " 3298667    0\n",
       " 3298668    0\n",
       " 3298669    0\n",
       " 3298670    0\n",
       " 3298671    0\n",
       " Name: Action, Length: 3298672, dtype: int64)"
      ]
     },
     "execution_count": 6,
     "metadata": {},
     "output_type": "execute_result"
    }
   ],
   "source": [
    "predictors.head, target"
   ]
  },
  {
   "cell_type": "code",
   "execution_count": 7,
   "id": "67a32b98",
   "metadata": {},
   "outputs": [],
   "source": [
    "scaler = MinMaxScaler((-1, 1))\n",
    "X = scaler.fit_transform(predictors)\n",
    "Y = target"
   ]
  },
  {
   "cell_type": "code",
   "execution_count": 8,
   "id": "a3398b60",
   "metadata": {},
   "outputs": [],
   "source": [
    "#Split training data \n",
    "X_train, X_test, Y_train, Y_test = train_test_split(X, Y, test_size = .25, random_state = 7)"
   ]
  },
  {
   "cell_type": "code",
   "execution_count": 10,
   "id": "0dabadf9",
   "metadata": {},
   "outputs": [
    {
     "name": "stdout",
     "output_type": "stream",
     "text": [
      "k-Nearest Neighbor: \n",
      "Accuracy:  0.9355704356177273\n",
      "Classification summary:                precision    recall  f1-score   support\n",
      "\n",
      "           0       0.96      0.97      0.97    678223\n",
      "           1       0.85      0.87      0.86    108700\n",
      "           2       0.61      0.47      0.53     37745\n",
      "\n",
      "    accuracy                           0.94    824668\n",
      "   macro avg       0.81      0.77      0.79    824668\n",
      "weighted avg       0.93      0.94      0.93    824668\n",
      "\n",
      "Confusion matrix:  [[659518  10390   8315]\n",
      " [ 11458  94340   2902]\n",
      " [ 13788   6280  17677]]\n"
     ]
    }
   ],
   "source": [
    "#Create the K-Nearest-Neighbors model\n",
    "model = KNeighborsClassifier()\n",
    "model.fit(X_train, Y_train)\n",
    "\n",
    "# make predictions\n",
    "y_pred = model.predict(X_test)\n",
    "\n",
    "# summarize the fit of the model\n",
    "print(\"k-Nearest Neighbor: \")\n",
    "print(\"Accuracy: \",metrics.accuracy_score(Y_test, y_pred))\n",
    "print(\"Classification summary: \",metrics.classification_report(Y_test, y_pred))\n",
    "print(\"Confusion matrix: \",metrics.confusion_matrix(Y_test, y_pred))\n",
    "\n",
    "# Now we are gonna try fine-tuning KNeighborsCclassifier() aka beat 97.959% "
   ]
  },
  {
   "cell_type": "code",
   "execution_count": null,
   "id": "75805c5d",
   "metadata": {},
   "outputs": [],
   "source": []
  }
 ],
 "metadata": {
  "kernelspec": {
   "display_name": "Python 3 (ipykernel)",
   "language": "python",
   "name": "python3"
  },
  "language_info": {
   "codemirror_mode": {
    "name": "ipython",
    "version": 3
   },
   "file_extension": ".py",
   "mimetype": "text/x-python",
   "name": "python",
   "nbconvert_exporter": "python",
   "pygments_lexer": "ipython3",
   "version": "3.9.7"
  }
 },
 "nbformat": 4,
 "nbformat_minor": 5
}
