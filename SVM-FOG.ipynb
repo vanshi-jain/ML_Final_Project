{
 "cells": [
  {
   "cell_type": "code",
   "execution_count": 1,
   "id": "0b8ab809",
   "metadata": {},
   "outputs": [],
   "source": [
    "import pandas as pd \n",
    "import numpy as np \n",
    "import os, sys\n",
    "from sklearn.preprocessing import MinMaxScaler\n",
    "from sklearn.model_selection import train_test_split\n",
    "from sklearn import metrics\n",
    "from sklearn.svm import SVC\n",
    "from sklearn.pipeline import make_pipeline\n",
    "from sklearn.preprocessing import StandardScaler"
   ]
  },
  {
   "cell_type": "code",
   "execution_count": 2,
   "id": "29e5d780",
   "metadata": {},
   "outputs": [],
   "source": [
    "#Extract the features and the predictors\n",
    "data = pd.read_csv(\"/Users/vanshika/Downloads/dataset_fog_release/dataset_fog_release/dataset/data.csv\")\n",
    "target = data['Action']\n",
    "\n",
    "idx= [i for i in target.index if target[i] == 0]\n",
    "\n",
    "data= data.drop(['name'], axis = 1)\n",
    "predictors=data.drop(idx,axis =0)\n",
    "\n",
    "target = predictors['Action']        \n",
    "predictors = predictors.drop(['Action'], axis = 1)\n",
    "predictors = predictors.drop(['time'], axis = 1)"
   ]
  },
  {
   "cell_type": "code",
   "execution_count": 3,
   "id": "2ee66599",
   "metadata": {},
   "outputs": [],
   "source": [
    "scaler = MinMaxScaler((-1, 1))\n",
    "X = scaler.fit_transform(predictors)\n",
    "Y = target"
   ]
  },
  {
   "cell_type": "code",
   "execution_count": 4,
   "id": "5f8c0c3e",
   "metadata": {},
   "outputs": [
    {
     "data": {
      "text/plain": [
       "((587506,), (587506, 9))"
      ]
     },
     "execution_count": 4,
     "metadata": {},
     "output_type": "execute_result"
    }
   ],
   "source": [
    "Y.shape, X.shape"
   ]
  },
  {
   "cell_type": "code",
   "execution_count": 5,
   "id": "d92e0a83",
   "metadata": {},
   "outputs": [],
   "source": [
    "#Split training data \n",
    "X_train, X_test, Y_train, Y_test = train_test_split(X, Y, test_size = .25, random_state = 7)"
   ]
  },
  {
   "cell_type": "code",
   "execution_count": 6,
   "id": "9f66a7c4",
   "metadata": {},
   "outputs": [
    {
     "data": {
      "text/plain": [
       "((440629, 9), (146877, 9))"
      ]
     },
     "execution_count": 6,
     "metadata": {},
     "output_type": "execute_result"
    }
   ],
   "source": [
    "X_train.shape, X_test.shape"
   ]
  },
  {
   "cell_type": "code",
   "execution_count": 18,
   "id": "a1cdd432",
   "metadata": {},
   "outputs": [
    {
     "name": "stderr",
     "output_type": "stream",
     "text": [
      "C:\\Users\\vanshika\\anaconda3\\lib\\site-packages\\sklearn\\svm\\_base.py:284: ConvergenceWarning: Solver terminated early (max_iter=2).  Consider pre-processing your data with StandardScaler or MinMaxScaler.\n",
      "  warnings.warn(\n"
     ]
    },
    {
     "data": {
      "text/plain": [
       "Pipeline(steps=[('standardscaler', StandardScaler()), ('svc', SVC(max_iter=2))])"
      ]
     },
     "execution_count": 18,
     "metadata": {},
     "output_type": "execute_result"
    }
   ],
   "source": [
    "model= make_pipeline(StandardScaler(), SVC(gamma='scale', max_iter =2))\n",
    "model.fit(X_train, Y_train)"
   ]
  },
  {
   "cell_type": "code",
   "execution_count": 19,
   "id": "a1ccda51",
   "metadata": {},
   "outputs": [
    {
     "name": "stdout",
     "output_type": "stream",
     "text": [
      "Support Vector Machine Classifier: \n",
      "Accuracy:  0.720698271342688\n",
      "Classification summary: \n",
      "               precision    recall  f1-score   support\n",
      "\n",
      "           1       0.75      0.93      0.83    109093\n",
      "           2       0.35      0.10      0.16     37784\n",
      "\n",
      "    accuracy                           0.72    146877\n",
      "   macro avg       0.55      0.52      0.50    146877\n",
      "weighted avg       0.65      0.72      0.66    146877\n",
      "\n",
      "Confusion matrix: \n",
      " [[101932   7161]\n",
      " [ 33862   3922]]\n"
     ]
    }
   ],
   "source": [
    "y_pred= model.predict(X_test)\n",
    "\n",
    "# summarize the fit of the model\n",
    "print(\"Support Vector Machine Classifier: \")\n",
    "print(\"Accuracy: \",metrics.accuracy_score(Y_test, y_pred))\n",
    "print(\"Classification summary: \\n\",metrics.classification_report(Y_test, y_pred))\n",
    "print(\"Confusion matrix: \\n\",metrics.confusion_matrix(Y_test, y_pred))\n"
   ]
  },
  {
   "cell_type": "code",
   "execution_count": 20,
   "id": "40a8613b",
   "metadata": {},
   "outputs": [
    {
     "data": {
      "text/plain": [
       "array([1, 1, 1, ..., 1, 2, 2], dtype=int64)"
      ]
     },
     "execution_count": 20,
     "metadata": {},
     "output_type": "execute_result"
    }
   ],
   "source": [
    "# saving model\n",
    "import pickle\n",
    "\n",
    "# Save the trained model as a pickle string.\n",
    "saved_model = pickle.dump(model, open('/Users/vanshika/SVM', 'wb'))\n",
    "\n",
    "# Load the pickled model\n",
    "m_from_pickle = pickle.load(open('/Users/vanshika/SVM', 'rb'))\n",
    "\n",
    "# Use the loaded pickled model to make predictions\n",
    "m_from_pickle.predict(X_test)\n"
   ]
  },
  {
   "cell_type": "code",
   "execution_count": null,
   "id": "59e54e15",
   "metadata": {},
   "outputs": [],
   "source": []
  }
 ],
 "metadata": {
  "kernelspec": {
   "display_name": "Python 3 (ipykernel)",
   "language": "python",
   "name": "python3"
  },
  "language_info": {
   "codemirror_mode": {
    "name": "ipython",
    "version": 3
   },
   "file_extension": ".py",
   "mimetype": "text/x-python",
   "name": "python",
   "nbconvert_exporter": "python",
   "pygments_lexer": "ipython3",
   "version": "3.9.7"
  }
 },
 "nbformat": 4,
 "nbformat_minor": 5
}
